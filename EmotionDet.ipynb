{
  "nbformat": 4,
  "nbformat_minor": 0,
  "metadata": {
    "colab": {
      "name": "EmotionDet.ipynb",
      "provenance": [],
      "collapsed_sections": []
    },
    "kernelspec": {
      "name": "python3",
      "display_name": "Python 3"
    },
    "accelerator": "GPU"
  },
  "cells": [
    {
      "cell_type": "code",
      "metadata": {
        "id": "DJ5lu5wNXhIx",
        "outputId": "24d3b5d1-6688-4561-ffb0-b61c1f33dc0a",
        "colab": {
          "base_uri": "https://localhost:8080/"
        }
      },
      "source": [
        "from google.colab import drive\n",
        "\n",
        "drive.mount('/content/drive')"
      ],
      "execution_count": null,
      "outputs": [
        {
          "output_type": "stream",
          "text": [
            "Mounted at /content/drive\n"
          ],
          "name": "stdout"
        }
      ]
    },
    {
      "cell_type": "code",
      "metadata": {
        "id": "q45gKxtMXrnW",
        "outputId": "9d4a42da-1007-421a-8cb4-b24cb3a63409",
        "colab": {
          "base_uri": "https://localhost:8080/"
        }
      },
      "source": [
        "!ls /content/drive/My\\ Drive"
      ],
      "execution_count": null,
      "outputs": [
        {
          "output_type": "stream",
          "text": [
            " 20ep_400bs_norm_sig.h5  'Colab Notebooks'   faces\t\t    model.h5\n",
            " 50ep_1000bs.h5\t\t  emotions.zip\t     list_bbox_celeba.csv\n"
          ],
          "name": "stdout"
        }
      ]
    },
    {
      "cell_type": "code",
      "metadata": {
        "id": "4LjgrHl2X4rF"
      },
      "source": [
        "!unzip -q \"/content/drive/My Drive/emotions.zip\""
      ],
      "execution_count": null,
      "outputs": []
    },
    {
      "cell_type": "code",
      "metadata": {
        "id": "Cp_khyRbYANn"
      },
      "source": [
        "from tensorflow.keras.models import Sequential, save_model\n",
        "from tensorflow.keras.layers import Conv2D, Dropout, Dense, Flatten, MaxPooling2D, Activation, BatchNormalization\n",
        "from tensorflow.keras.preprocessing.image import ImageDataGenerator\n",
        "from tensorflow.keras.optimizers import Adam\n",
        "from tensorflow.keras.regularizers import l2\n",
        "import matplotlib.pyplot as plt"
      ],
      "execution_count": null,
      "outputs": []
    },
    {
      "cell_type": "code",
      "metadata": {
        "id": "ik65str-YgR4"
      },
      "source": [
        "TRAIN_IMG_DIR = '/content/emotions/train'\n",
        "TRAIN_DS_SIZE = 28709\n",
        "\n",
        "TEST_IMG_DIR = '/content/emotions/test'\n",
        "TEST_DS_SIZE = 7178\n",
        "\n",
        "BATCH_SIZE = 500"
      ],
      "execution_count": null,
      "outputs": []
    },
    {
      "cell_type": "code",
      "metadata": {
        "id": "Nb94mk6rZpr5"
      },
      "source": [
        "train_idg = ImageDataGenerator(rescale=1/255)\n",
        "test_idg = ImageDataGenerator(rescale=1/255)"
      ],
      "execution_count": null,
      "outputs": []
    },
    {
      "cell_type": "code",
      "metadata": {
        "id": "WjomOdR7ahws",
        "outputId": "d7d85a38-bed0-4c5c-f30e-018eb8235e11",
        "colab": {
          "base_uri": "https://localhost:8080/"
        }
      },
      "source": [
        "train_gen = train_idg.flow_from_directory(\n",
        "    TRAIN_IMG_DIR,\n",
        "    target_size=(48, 48),\n",
        "    color_mode=\"grayscale\",\n",
        "    class_mode=\"categorical\",\n",
        "    batch_size=BATCH_SIZE\n",
        ")\n",
        "\n",
        "test_gen = test_idg.flow_from_directory(\n",
        "    TEST_IMG_DIR,\n",
        "    target_size=(48, 48),\n",
        "    color_mode=\"grayscale\",\n",
        "    class_mode=\"categorical\",\n",
        "    batch_size=BATCH_SIZE\n",
        ")"
      ],
      "execution_count": null,
      "outputs": [
        {
          "output_type": "stream",
          "text": [
            "Found 28709 images belonging to 7 classes.\n",
            "Found 7178 images belonging to 7 classes.\n"
          ],
          "name": "stdout"
        }
      ]
    },
    {
      "cell_type": "code",
      "metadata": {
        "id": "6buWu5bUvDqF"
      },
      "source": [
        "regul = l2(0.001)"
      ],
      "execution_count": null,
      "outputs": []
    },
    {
      "cell_type": "code",
      "metadata": {
        "id": "OsO72MQIbeX2"
      },
      "source": [
        "model = Sequential([\n",
        "    Conv2D(64, 3, input_shape=(48, 48, 1), padding='same', kernel_regularizer=regul),\n",
        "    Activation('relu'),\n",
        "    Conv2D(64, 3, padding='same' kernel_regularizer=regul),\n",
        "    Activation('relu'),\n",
        "    Dropout(0.5),\n",
        "    MaxPooling2D(pool_size=(2, 2)),\n",
        "\n",
        "    Conv2D(128, 3, padding='same', kernel_regularizer=regul),\n",
        "    Activation('relu'),\n",
        "    Conv2D(128, 3, padding='same' kernel_regularizer=regul),\n",
        "    Activation('relu'),\n",
        "    Dropout(0.5),\n",
        "    MaxPooling2D(pool_size=(2, 2)),\n",
        "\n",
        "    Conv2D(256, 3, padding='same', kernel_regularizer=regul),\n",
        "    Activation('relu'),\n",
        "    Conv2D(256, 3, padding='same' kernel_regularizer=regul),\n",
        "    Activation('relu'),\n",
        "    Dropout(0.5),\n",
        "    MaxPooling2D(pool_size=(2, 2)),\n",
        "\n",
        "    Conv2D(512, 3, padding='same', kernel_regularizer=regul),\n",
        "    Activation('relu'),\n",
        "    Conv2D(512, 3, padding='same' kernel_regularizer=regul),\n",
        "    Activation('relu'),\n",
        "    Dropout(0.5),\n",
        "    MaxPooling2D(pool_size=(2, 2)),\n",
        "\n",
        "    Flatten(),\n",
        "    Dense(1024, activation='relu', kernel_regularizer=regul),\n",
        "    Dense(1024, activation='relu', kernel_regularizer=regul),\n",
        "    Dense(7, activation='softmax'),\n",
        "])"
      ],
      "execution_count": null,
      "outputs": []
    },
    {
      "cell_type": "code",
      "metadata": {
        "id": "RjUsetxMdsUb"
      },
      "source": [
        "model.compile(loss=\"categorical_crossentropy\", optimizer=Adam(learning_rate=1e-3, decay=1e-6), metrics=['accuracy', 'mse'])"
      ],
      "execution_count": null,
      "outputs": []
    },
    {
      "cell_type": "code",
      "metadata": {
        "id": "a1akfPLqfX7I",
        "outputId": "5e1102a1-f4f0-4c6f-f8ae-d3b9c20a26da",
        "colab": {
          "base_uri": "https://localhost:8080/"
        }
      },
      "source": [
        "history = model.fit(\n",
        "    train_gen,\n",
        "    steps_per_epoch=TRAIN_DS_SIZE // BATCH_SIZE,\n",
        "    epochs=100,\n",
        "    validation_data=test_gen,\n",
        "    validation_steps=TEST_DS_SIZE // BATCH_SIZE\n",
        ")"
      ],
      "execution_count": null,
      "outputs": [
        {
          "output_type": "stream",
          "text": [
            "Epoch 1/100\n",
            " 2/57 [>.............................] - ETA: 6s - loss: 6.2556 - accuracy: 0.1740 - mse: 0.1381WARNING:tensorflow:Callbacks method `on_train_batch_end` is slow compared to the batch time (batch time: 0.0556s vs `on_train_batch_end` time: 0.0885s). Check your callbacks.\n",
            "57/57 [==============================] - 13s 223ms/step - loss: 4.5465 - accuracy: 0.2668 - mse: 0.1176 - val_loss: 3.9180 - val_accuracy: 0.2471 - val_mse: 0.1191\n",
            "Epoch 2/100\n",
            "57/57 [==============================] - 12s 217ms/step - loss: 3.1642 - accuracy: 0.3866 - mse: 0.1021 - val_loss: 3.1411 - val_accuracy: 0.2474 - val_mse: 0.1193\n",
            "Epoch 3/100\n",
            "57/57 [==============================] - 12s 216ms/step - loss: 2.3792 - accuracy: 0.4946 - mse: 0.0887 - val_loss: 2.7540 - val_accuracy: 0.2600 - val_mse: 0.1189\n",
            "Epoch 4/100\n",
            "57/57 [==============================] - 12s 216ms/step - loss: 1.9460 - accuracy: 0.5606 - mse: 0.0802 - val_loss: 2.5117 - val_accuracy: 0.2870 - val_mse: 0.1175\n",
            "Epoch 5/100\n",
            "57/57 [==============================] - 12s 215ms/step - loss: 1.6984 - accuracy: 0.5904 - mse: 0.0756 - val_loss: 2.4675 - val_accuracy: 0.1807 - val_mse: 0.1219\n",
            "Epoch 6/100\n",
            "57/57 [==============================] - 12s 216ms/step - loss: 1.5504 - accuracy: 0.6128 - mse: 0.0724 - val_loss: 2.1738 - val_accuracy: 0.3423 - val_mse: 0.1095\n",
            "Epoch 7/100\n",
            "57/57 [==============================] - 12s 216ms/step - loss: 1.4315 - accuracy: 0.6350 - mse: 0.0688 - val_loss: 1.9799 - val_accuracy: 0.3930 - val_mse: 0.1024\n",
            "Epoch 8/100\n",
            "57/57 [==============================] - 12s 214ms/step - loss: 1.3543 - accuracy: 0.6474 - mse: 0.0663 - val_loss: 1.9616 - val_accuracy: 0.4110 - val_mse: 0.1013\n",
            "Epoch 9/100\n",
            "57/57 [==============================] - 12s 216ms/step - loss: 1.2948 - accuracy: 0.6659 - mse: 0.0638 - val_loss: 1.8516 - val_accuracy: 0.4593 - val_mse: 0.0946\n",
            "Epoch 10/100\n",
            "57/57 [==============================] - 12s 214ms/step - loss: 1.2475 - accuracy: 0.6804 - mse: 0.0610 - val_loss: 1.7445 - val_accuracy: 0.4886 - val_mse: 0.0935\n",
            "Epoch 11/100\n",
            "57/57 [==============================] - 12s 216ms/step - loss: 1.2204 - accuracy: 0.6961 - mse: 0.0590 - val_loss: 1.6280 - val_accuracy: 0.5340 - val_mse: 0.0840\n",
            "Epoch 12/100\n",
            "57/57 [==============================] - 12s 216ms/step - loss: 1.1837 - accuracy: 0.7114 - mse: 0.0562 - val_loss: 1.6645 - val_accuracy: 0.5270 - val_mse: 0.0859\n",
            "Epoch 13/100\n",
            "57/57 [==============================] - 12s 215ms/step - loss: 1.1565 - accuracy: 0.7287 - mse: 0.0533 - val_loss: 1.5983 - val_accuracy: 0.5659 - val_mse: 0.0805\n",
            "Epoch 14/100\n",
            "57/57 [==============================] - 12s 214ms/step - loss: 1.1195 - accuracy: 0.7458 - mse: 0.0498 - val_loss: 1.9929 - val_accuracy: 0.5229 - val_mse: 0.0989\n",
            "Epoch 15/100\n",
            "57/57 [==============================] - 12s 217ms/step - loss: 1.0994 - accuracy: 0.7619 - mse: 0.0473 - val_loss: 1.7944 - val_accuracy: 0.5516 - val_mse: 0.0898\n",
            "Epoch 16/100\n",
            "57/57 [==============================] - 12s 216ms/step - loss: 1.0750 - accuracy: 0.7782 - mse: 0.0439 - val_loss: 1.7926 - val_accuracy: 0.5377 - val_mse: 0.0874\n",
            "Epoch 17/100\n",
            "57/57 [==============================] - 12s 215ms/step - loss: 1.0281 - accuracy: 0.8053 - mse: 0.0392 - val_loss: 2.3078 - val_accuracy: 0.4663 - val_mse: 0.1113\n",
            "Epoch 18/100\n",
            "57/57 [==============================] - 12s 217ms/step - loss: 1.0117 - accuracy: 0.8208 - mse: 0.0366 - val_loss: 2.7039 - val_accuracy: 0.4799 - val_mse: 0.1166\n",
            "Epoch 19/100\n",
            "57/57 [==============================] - 12s 213ms/step - loss: 0.9976 - accuracy: 0.8342 - mse: 0.0342 - val_loss: 2.2364 - val_accuracy: 0.4954 - val_mse: 0.1048\n",
            "Epoch 20/100\n",
            "57/57 [==============================] - 12s 215ms/step - loss: 0.9676 - accuracy: 0.8521 - mse: 0.0305 - val_loss: 2.5211 - val_accuracy: 0.5084 - val_mse: 0.1094\n",
            "Epoch 21/100\n",
            "57/57 [==============================] - 12s 214ms/step - loss: 0.9485 - accuracy: 0.8656 - mse: 0.0279 - val_loss: 2.0851 - val_accuracy: 0.5587 - val_mse: 0.0944\n",
            "Epoch 22/100\n",
            "57/57 [==============================] - 12s 216ms/step - loss: 0.9000 - accuracy: 0.8857 - mse: 0.0240 - val_loss: 5.1148 - val_accuracy: 0.2770 - val_mse: 0.1910\n",
            "Epoch 23/100\n",
            "57/57 [==============================] - 13s 219ms/step - loss: 0.8955 - accuracy: 0.8906 - mse: 0.0229 - val_loss: 1.8989 - val_accuracy: 0.5903 - val_mse: 0.0837\n",
            "Epoch 24/100\n",
            "57/57 [==============================] - 13s 220ms/step - loss: 0.8774 - accuracy: 0.8991 - mse: 0.0211 - val_loss: 2.0124 - val_accuracy: 0.5796 - val_mse: 0.0902\n",
            "Epoch 25/100\n",
            "57/57 [==============================] - 12s 216ms/step - loss: 0.8411 - accuracy: 0.9155 - mse: 0.0182 - val_loss: 2.3982 - val_accuracy: 0.5361 - val_mse: 0.1036\n",
            "Epoch 26/100\n",
            "57/57 [==============================] - 12s 219ms/step - loss: 0.8459 - accuracy: 0.9139 - mse: 0.0183 - val_loss: 3.3598 - val_accuracy: 0.3439 - val_mse: 0.1518\n",
            "Epoch 27/100\n",
            "57/57 [==============================] - 13s 222ms/step - loss: 0.8008 - accuracy: 0.9285 - mse: 0.0152 - val_loss: 2.3288 - val_accuracy: 0.5640 - val_mse: 0.0975\n",
            "Epoch 28/100\n",
            "57/57 [==============================] - 12s 217ms/step - loss: 0.7868 - accuracy: 0.9307 - mse: 0.0146 - val_loss: 3.4670 - val_accuracy: 0.4281 - val_mse: 0.1364\n",
            "Epoch 29/100\n",
            "57/57 [==============================] - 12s 218ms/step - loss: 0.7721 - accuracy: 0.9351 - mse: 0.0138 - val_loss: 2.4936 - val_accuracy: 0.5193 - val_mse: 0.1084\n",
            "Epoch 30/100\n",
            "57/57 [==============================] - 12s 217ms/step - loss: 0.7700 - accuracy: 0.9350 - mse: 0.0139 - val_loss: 2.9240 - val_accuracy: 0.5033 - val_mse: 0.1169\n",
            "Epoch 31/100\n",
            "57/57 [==============================] - 12s 216ms/step - loss: 0.7764 - accuracy: 0.9343 - mse: 0.0141 - val_loss: 2.4364 - val_accuracy: 0.5431 - val_mse: 0.1023\n",
            "Epoch 32/100\n",
            "57/57 [==============================] - 12s 217ms/step - loss: 0.7357 - accuracy: 0.9450 - mse: 0.0118 - val_loss: 2.1679 - val_accuracy: 0.5770 - val_mse: 0.0937\n",
            "Epoch 33/100\n",
            "57/57 [==============================] - 12s 216ms/step - loss: 0.7282 - accuracy: 0.9452 - mse: 0.0118 - val_loss: 3.5123 - val_accuracy: 0.4534 - val_mse: 0.1358\n",
            "Epoch 34/100\n",
            "57/57 [==============================] - 12s 217ms/step - loss: 0.7124 - accuracy: 0.9478 - mse: 0.0112 - val_loss: 2.1419 - val_accuracy: 0.5474 - val_mse: 0.0979\n",
            "Epoch 35/100\n",
            "57/57 [==============================] - 12s 215ms/step - loss: 0.7195 - accuracy: 0.9454 - mse: 0.0119 - val_loss: 2.5200 - val_accuracy: 0.5531 - val_mse: 0.1033\n",
            "Epoch 36/100\n",
            "57/57 [==============================] - 12s 216ms/step - loss: 0.7198 - accuracy: 0.9443 - mse: 0.0119 - val_loss: 2.3668 - val_accuracy: 0.5483 - val_mse: 0.1012\n",
            "Epoch 37/100\n",
            "57/57 [==============================] - 12s 216ms/step - loss: 0.6789 - accuracy: 0.9553 - mse: 0.0097 - val_loss: 2.7942 - val_accuracy: 0.5387 - val_mse: 0.1082\n",
            "Epoch 38/100\n",
            "57/57 [==============================] - 12s 214ms/step - loss: 0.6807 - accuracy: 0.9512 - mse: 0.0105 - val_loss: 2.5887 - val_accuracy: 0.4889 - val_mse: 0.1155\n",
            "Epoch 39/100\n",
            "57/57 [==============================] - 12s 216ms/step - loss: 0.7043 - accuracy: 0.9471 - mse: 0.0116 - val_loss: 2.5916 - val_accuracy: 0.5737 - val_mse: 0.1009\n",
            "Epoch 40/100\n",
            "57/57 [==============================] - 12s 217ms/step - loss: 0.6695 - accuracy: 0.9559 - mse: 0.0095 - val_loss: 2.5694 - val_accuracy: 0.5487 - val_mse: 0.1041\n",
            "Epoch 41/100\n",
            "57/57 [==============================] - 12s 214ms/step - loss: 0.6730 - accuracy: 0.9515 - mse: 0.0105 - val_loss: 2.3621 - val_accuracy: 0.5553 - val_mse: 0.1009\n",
            "Epoch 42/100\n",
            "57/57 [==============================] - 12s 217ms/step - loss: 0.6746 - accuracy: 0.9508 - mse: 0.0105 - val_loss: 2.4673 - val_accuracy: 0.5549 - val_mse: 0.1040\n",
            "Epoch 43/100\n",
            "57/57 [==============================] - 12s 215ms/step - loss: 0.6676 - accuracy: 0.9528 - mse: 0.0103 - val_loss: 2.3377 - val_accuracy: 0.5543 - val_mse: 0.0991\n",
            "Epoch 44/100\n",
            "57/57 [==============================] - 12s 216ms/step - loss: 0.6367 - accuracy: 0.9603 - mse: 0.0085 - val_loss: 2.7379 - val_accuracy: 0.5449 - val_mse: 0.1072\n",
            "Epoch 45/100\n",
            "57/57 [==============================] - 12s 216ms/step - loss: 0.6507 - accuracy: 0.9550 - mse: 0.0098 - val_loss: 2.9155 - val_accuracy: 0.4769 - val_mse: 0.1229\n",
            "Epoch 46/100\n",
            "57/57 [==============================] - 12s 216ms/step - loss: 0.6442 - accuracy: 0.9564 - mse: 0.0095 - val_loss: 2.4922 - val_accuracy: 0.5664 - val_mse: 0.1007\n",
            "Epoch 47/100\n",
            "57/57 [==============================] - 12s 217ms/step - loss: 0.6455 - accuracy: 0.9546 - mse: 0.0097 - val_loss: 3.8498 - val_accuracy: 0.4674 - val_mse: 0.1329\n",
            "Epoch 48/100\n",
            "57/57 [==============================] - 12s 215ms/step - loss: 0.6218 - accuracy: 0.9613 - mse: 0.0084 - val_loss: 2.3323 - val_accuracy: 0.5693 - val_mse: 0.0983\n",
            "Epoch 49/100\n",
            "57/57 [==============================] - 12s 216ms/step - loss: 0.6507 - accuracy: 0.9500 - mse: 0.0106 - val_loss: 3.4813 - val_accuracy: 0.3759 - val_mse: 0.1465\n",
            "Epoch 50/100\n",
            "57/57 [==============================] - 12s 215ms/step - loss: 0.6268 - accuracy: 0.9597 - mse: 0.0089 - val_loss: 2.4534 - val_accuracy: 0.5407 - val_mse: 0.1044\n",
            "Epoch 51/100\n",
            "57/57 [==============================] - 12s 217ms/step - loss: 0.6319 - accuracy: 0.9574 - mse: 0.0092 - val_loss: 2.3922 - val_accuracy: 0.5261 - val_mse: 0.1057\n",
            "Epoch 52/100\n",
            "57/57 [==============================] - 12s 218ms/step - loss: 0.6406 - accuracy: 0.9543 - mse: 0.0098 - val_loss: 4.3745 - val_accuracy: 0.2970 - val_mse: 0.1731\n",
            "Epoch 53/100\n",
            "57/57 [==============================] - 12s 215ms/step - loss: 0.6131 - accuracy: 0.9634 - mse: 0.0081 - val_loss: 2.5272 - val_accuracy: 0.5396 - val_mse: 0.1059\n",
            "Epoch 54/100\n",
            "57/57 [==============================] - 12s 217ms/step - loss: 0.6143 - accuracy: 0.9602 - mse: 0.0088 - val_loss: 3.3834 - val_accuracy: 0.5117 - val_mse: 0.1197\n",
            "Epoch 55/100\n",
            "57/57 [==============================] - 12s 218ms/step - loss: 0.6060 - accuracy: 0.9626 - mse: 0.0083 - val_loss: 3.0098 - val_accuracy: 0.5024 - val_mse: 0.1182\n",
            "Epoch 56/100\n",
            "57/57 [==============================] - 12s 213ms/step - loss: 0.6068 - accuracy: 0.9622 - mse: 0.0085 - val_loss: 2.7981 - val_accuracy: 0.5464 - val_mse: 0.1084\n",
            "Epoch 57/100\n",
            "57/57 [==============================] - 12s 216ms/step - loss: 0.6044 - accuracy: 0.9607 - mse: 0.0086 - val_loss: 2.6594 - val_accuracy: 0.5564 - val_mse: 0.1059\n",
            "Epoch 58/100\n",
            "57/57 [==============================] - 12s 217ms/step - loss: 0.6005 - accuracy: 0.9607 - mse: 0.0084 - val_loss: 3.2709 - val_accuracy: 0.5016 - val_mse: 0.1233\n",
            "Epoch 59/100\n",
            "57/57 [==============================] - 12s 218ms/step - loss: 0.6023 - accuracy: 0.9599 - mse: 0.0088 - val_loss: 2.6774 - val_accuracy: 0.5273 - val_mse: 0.1108\n",
            "Epoch 60/100\n",
            "57/57 [==============================] - 12s 215ms/step - loss: 0.5806 - accuracy: 0.9655 - mse: 0.0074 - val_loss: 2.6047 - val_accuracy: 0.5349 - val_mse: 0.1080\n",
            "Epoch 61/100\n",
            "57/57 [==============================] - 12s 217ms/step - loss: 0.5927 - accuracy: 0.9605 - mse: 0.0086 - val_loss: 2.6210 - val_accuracy: 0.5711 - val_mse: 0.1015\n",
            "Epoch 62/100\n",
            "57/57 [==============================] - 12s 217ms/step - loss: 0.5998 - accuracy: 0.9586 - mse: 0.0090 - val_loss: 2.4307 - val_accuracy: 0.5466 - val_mse: 0.1039\n",
            "Epoch 63/100\n",
            "57/57 [==============================] - 12s 214ms/step - loss: 0.5910 - accuracy: 0.9603 - mse: 0.0085 - val_loss: 3.0195 - val_accuracy: 0.5500 - val_mse: 0.1096\n",
            "Epoch 64/100\n",
            "57/57 [==============================] - 12s 215ms/step - loss: 0.5864 - accuracy: 0.9625 - mse: 0.0082 - val_loss: 2.8363 - val_accuracy: 0.5371 - val_mse: 0.1125\n",
            "Epoch 65/100\n",
            "57/57 [==============================] - 12s 216ms/step - loss: 0.5959 - accuracy: 0.9582 - mse: 0.0090 - val_loss: 2.3781 - val_accuracy: 0.5684 - val_mse: 0.1007\n",
            "Epoch 66/100\n",
            "57/57 [==============================] - 12s 216ms/step - loss: 0.5985 - accuracy: 0.9583 - mse: 0.0089 - val_loss: 2.7502 - val_accuracy: 0.5630 - val_mse: 0.1050\n",
            "Epoch 67/100\n",
            "57/57 [==============================] - 12s 217ms/step - loss: 0.5743 - accuracy: 0.9665 - mse: 0.0074 - val_loss: 2.3281 - val_accuracy: 0.5431 - val_mse: 0.1033\n",
            "Epoch 68/100\n",
            "57/57 [==============================] - 12s 217ms/step - loss: 0.5752 - accuracy: 0.9646 - mse: 0.0077 - val_loss: 2.8631 - val_accuracy: 0.4960 - val_mse: 0.1200\n",
            "Epoch 69/100\n",
            "57/57 [==============================] - 12s 218ms/step - loss: 0.5716 - accuracy: 0.9655 - mse: 0.0076 - val_loss: 2.3918 - val_accuracy: 0.5523 - val_mse: 0.1035\n",
            "Epoch 70/100\n",
            "57/57 [==============================] - 12s 217ms/step - loss: 0.5716 - accuracy: 0.9631 - mse: 0.0079 - val_loss: 3.2447 - val_accuracy: 0.5171 - val_mse: 0.1210\n",
            "Epoch 71/100\n",
            "57/57 [==============================] - 12s 215ms/step - loss: 0.5716 - accuracy: 0.9628 - mse: 0.0081 - val_loss: 2.3130 - val_accuracy: 0.5803 - val_mse: 0.0987\n",
            "Epoch 72/100\n",
            "57/57 [==============================] - 12s 217ms/step - loss: 0.5665 - accuracy: 0.9649 - mse: 0.0076 - val_loss: 2.3972 - val_accuracy: 0.5819 - val_mse: 0.0979\n",
            "Epoch 73/100\n",
            "57/57 [==============================] - 12s 218ms/step - loss: 0.5641 - accuracy: 0.9643 - mse: 0.0078 - val_loss: 2.3638 - val_accuracy: 0.5683 - val_mse: 0.1001\n",
            "Epoch 74/100\n",
            "57/57 [==============================] - 13s 220ms/step - loss: 0.5603 - accuracy: 0.9656 - mse: 0.0075 - val_loss: 3.0182 - val_accuracy: 0.5099 - val_mse: 0.1171\n",
            "Epoch 75/100\n",
            "57/57 [==============================] - 12s 218ms/step - loss: 0.5613 - accuracy: 0.9634 - mse: 0.0079 - val_loss: 2.6985 - val_accuracy: 0.5373 - val_mse: 0.1082\n",
            "Epoch 76/100\n",
            "57/57 [==============================] - 13s 221ms/step - loss: 0.5610 - accuracy: 0.9639 - mse: 0.0078 - val_loss: 2.6968 - val_accuracy: 0.5329 - val_mse: 0.1097\n",
            "Epoch 77/100\n",
            "57/57 [==============================] - 13s 219ms/step - loss: 0.5600 - accuracy: 0.9644 - mse: 0.0076 - val_loss: 2.3011 - val_accuracy: 0.5379 - val_mse: 0.1033\n",
            "Epoch 78/100\n",
            "57/57 [==============================] - 12s 219ms/step - loss: 0.5387 - accuracy: 0.9703 - mse: 0.0065 - val_loss: 2.5447 - val_accuracy: 0.5664 - val_mse: 0.1024\n",
            "Epoch 79/100\n",
            "57/57 [==============================] - 12s 217ms/step - loss: 0.5422 - accuracy: 0.9689 - mse: 0.0070 - val_loss: 2.3168 - val_accuracy: 0.5930 - val_mse: 0.0951\n",
            "Epoch 80/100\n",
            "57/57 [==============================] - 12s 218ms/step - loss: 0.5422 - accuracy: 0.9659 - mse: 0.0073 - val_loss: 3.0552 - val_accuracy: 0.4819 - val_mse: 0.1229\n",
            "Epoch 81/100\n",
            "57/57 [==============================] - 13s 220ms/step - loss: 0.5411 - accuracy: 0.9664 - mse: 0.0073 - val_loss: 3.0540 - val_accuracy: 0.5150 - val_mse: 0.1177\n",
            "Epoch 82/100\n",
            "57/57 [==============================] - 12s 218ms/step - loss: 0.5541 - accuracy: 0.9624 - mse: 0.0082 - val_loss: 2.8252 - val_accuracy: 0.4984 - val_mse: 0.1197\n",
            "Epoch 83/100\n",
            "57/57 [==============================] - 13s 219ms/step - loss: 0.5399 - accuracy: 0.9673 - mse: 0.0071 - val_loss: 2.4074 - val_accuracy: 0.5837 - val_mse: 0.0981\n",
            "Epoch 84/100\n",
            "57/57 [==============================] - 12s 219ms/step - loss: 0.5477 - accuracy: 0.9658 - mse: 0.0075 - val_loss: 3.0535 - val_accuracy: 0.4884 - val_mse: 0.1231\n",
            "Epoch 85/100\n",
            "57/57 [==============================] - 13s 220ms/step - loss: 0.5435 - accuracy: 0.9665 - mse: 0.0074 - val_loss: 2.6466 - val_accuracy: 0.5267 - val_mse: 0.1108\n",
            "Epoch 86/100\n",
            "57/57 [==============================] - 12s 218ms/step - loss: 0.5428 - accuracy: 0.9659 - mse: 0.0075 - val_loss: 2.6412 - val_accuracy: 0.5636 - val_mse: 0.1049\n",
            "Epoch 87/100\n",
            "57/57 [==============================] - 13s 220ms/step - loss: 0.5454 - accuracy: 0.9650 - mse: 0.0076 - val_loss: 3.5642 - val_accuracy: 0.4670 - val_mse: 0.1319\n",
            "Epoch 88/100\n",
            "57/57 [==============================] - 13s 220ms/step - loss: 0.5435 - accuracy: 0.9664 - mse: 0.0074 - val_loss: 2.6920 - val_accuracy: 0.5170 - val_mse: 0.1140\n",
            "Epoch 89/100\n",
            "57/57 [==============================] - 12s 219ms/step - loss: 0.5431 - accuracy: 0.9657 - mse: 0.0074 - val_loss: 2.6056 - val_accuracy: 0.5351 - val_mse: 0.1093\n",
            "Epoch 90/100\n",
            "57/57 [==============================] - 12s 218ms/step - loss: 0.5368 - accuracy: 0.9670 - mse: 0.0072 - val_loss: 2.6795 - val_accuracy: 0.5407 - val_mse: 0.1083\n",
            "Epoch 91/100\n",
            "57/57 [==============================] - 12s 218ms/step - loss: 0.5241 - accuracy: 0.9706 - mse: 0.0065 - val_loss: 2.6951 - val_accuracy: 0.5333 - val_mse: 0.1099\n",
            "Epoch 92/100\n",
            "57/57 [==============================] - 12s 219ms/step - loss: 0.5243 - accuracy: 0.9700 - mse: 0.0066 - val_loss: 2.4954 - val_accuracy: 0.5819 - val_mse: 0.0993\n",
            "Epoch 93/100\n",
            "57/57 [==============================] - 12s 219ms/step - loss: 0.5305 - accuracy: 0.9665 - mse: 0.0073 - val_loss: 2.7736 - val_accuracy: 0.4920 - val_mse: 0.1185\n",
            "Epoch 94/100\n",
            "57/57 [==============================] - 12s 217ms/step - loss: 0.5322 - accuracy: 0.9663 - mse: 0.0073 - val_loss: 3.7558 - val_accuracy: 0.4426 - val_mse: 0.1413\n",
            "Epoch 95/100\n",
            "57/57 [==============================] - 13s 221ms/step - loss: 0.5278 - accuracy: 0.9678 - mse: 0.0070 - val_loss: 3.0870 - val_accuracy: 0.5276 - val_mse: 0.1151\n",
            "Epoch 96/100\n",
            "57/57 [==============================] - 12s 218ms/step - loss: 0.5238 - accuracy: 0.9683 - mse: 0.0068 - val_loss: 3.1985 - val_accuracy: 0.5409 - val_mse: 0.1141\n",
            "Epoch 97/100\n",
            "57/57 [==============================] - 13s 221ms/step - loss: 0.5243 - accuracy: 0.9671 - mse: 0.0071 - val_loss: 2.8251 - val_accuracy: 0.5339 - val_mse: 0.1119\n",
            "Epoch 98/100\n",
            "57/57 [==============================] - 12s 218ms/step - loss: 0.5172 - accuracy: 0.9699 - mse: 0.0066 - val_loss: 2.5618 - val_accuracy: 0.5503 - val_mse: 0.1063\n",
            "Epoch 99/100\n",
            "57/57 [==============================] - 13s 220ms/step - loss: 0.5116 - accuracy: 0.9718 - mse: 0.0065 - val_loss: 2.3790 - val_accuracy: 0.5753 - val_mse: 0.1000\n",
            "Epoch 100/100\n",
            "57/57 [==============================] - 13s 220ms/step - loss: 0.5277 - accuracy: 0.9647 - mse: 0.0077 - val_loss: 2.8600 - val_accuracy: 0.5087 - val_mse: 0.1180\n"
          ],
          "name": "stdout"
        }
      ]
    },
    {
      "cell_type": "code",
      "metadata": {
        "id": "QlVlmk5tgLBh"
      },
      "source": [
        "save_model(model, '/content/100ep_500bs_65.h5')"
      ],
      "execution_count": null,
      "outputs": []
    },
    {
      "cell_type": "code",
      "metadata": {
        "id": "-L8XIYx0s4iQ"
      },
      "source": [
        "import pickle\n",
        "\n",
        "with open('/content/100ep_500bs_65_h', 'wb') as write_file:\n",
        "  pickle.dump(history.history, write_file)"
      ],
      "execution_count": null,
      "outputs": []
    },
    {
      "cell_type": "code",
      "metadata": {
        "id": "HGpmygcetNI4"
      },
      "source": [
        ""
      ],
      "execution_count": null,
      "outputs": []
    }
  ]
}